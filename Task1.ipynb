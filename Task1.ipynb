{
 "cells": [
  {
   "cell_type": "markdown",
   "metadata": {},
   "source": [
    "# Tasks"
   ]
  },
  {
   "cell_type": "markdown",
   "metadata": {},
   "source": [
    "### Task 1 - Def counts function\n",
    "\n",
    "The idea is to create a function named counts that takes a list as input and returns a dictionary.\n"
   ]
  },
  {
   "cell_type": "markdown",
   "metadata": {},
   "source": [
    "These are my solutions to the Tasks assessment. The autor is Claudia Morazzoni (G00387828@gmit.ie) "
   ]
  },
  {
   "cell_type": "markdown",
   "metadata": {},
   "source": [
    "First, to relate each element $(x1 - y1)$ of two sets $(x, y)$ in a binary way it is necessary to construct a function, as formalized in the history of mathematics.\n",
    "\n",
    "### $$ y=f(x) $$\n",
    "\n",
    "\n",
    "In Python, a function is defined as a series of instructions that returns a value to the caller. [2]\n",
    "\n",
    "We know that Python's count inbuilt function counts how many times an item appears in a list. [3]\n",
    "\n",
    "However, as I needed to count by unique names, then I transformed the list into a set, as this is a collection of exclusive elements. [4]\n",
    "\n",
    "And finally I turned the result (key-value pairs) into a dictionary. The dict() constructor builds dictionaries directly from sequences of key-value pairs. [5]\n",
    "\n",
    "\n",
    "\n",
    "[1]Function (mathematics); https://en.wikipedia.org/wiki/Function_(mathematics)#:~:text=A%20function%20is%20a%20process,the%20codomain%20of%20the%20function.  \n",
    "[2] Glossary - Python Documentation; https://docs.python.org/3.0/glossary.html  \n",
    "[3] Python list function | count(); https://www.geeksforgeeks.org/python-list-function-count/  \n",
    "[4] 8.7. sets — Unordered collections of unique elements - Python Documentation; https://docs.python.org/2/library/sets.html  \n",
    "[5] Python - Convert a set into dictionary; https://www.tutorialspoint.com/python-convert-a-set-into-dictionary#:~:text=The%20dict()%20can%20be,value%20pair%20in%20the%20dictionary.  \n",
    "\n"
   ]
  },
  {
   "cell_type": "code",
   "execution_count": 22,
   "metadata": {},
   "outputs": [],
   "source": [
    "def counts (l):\n",
    "    \"\"\" \n",
    "    A function named counts that takes a list as input and returns a dictionary\n",
    "    \"\"\"\n",
    "    # list comprehension using for loop and count function to get the number of occurrences os each item\n",
    "    return [(dict ((x,l.count(x)) for x in l))]"
   ]
  },
  {
   "cell_type": "markdown",
   "metadata": {},
   "source": [
    "### Tests of the function\n",
    "Here we test the function with some known values."
   ]
  },
  {
   "cell_type": "code",
   "execution_count": 32,
   "metadata": {},
   "outputs": [],
   "source": [
    "# Test the function with a string list\n",
    "l=['a', 'b', 'c', 'a', 'b', 'c', 'c', 'a']"
   ]
  },
  {
   "cell_type": "code",
   "execution_count": 23,
   "metadata": {},
   "outputs": [
    {
     "data": {
      "text/plain": [
       "[{'a': 3, 'b': 2, 'c': 3}]"
      ]
     },
     "execution_count": 23,
     "metadata": {},
     "output_type": "execute_result"
    }
   ],
   "source": [
    "# calling the function\n",
    "counts(l)"
   ]
  },
  {
   "cell_type": "code",
   "execution_count": 31,
   "metadata": {},
   "outputs": [
    {
     "data": {
      "text/plain": [
       "[{'B': 2, 'C': 1}]"
      ]
     },
     "execution_count": 31,
     "metadata": {},
     "output_type": "execute_result"
    }
   ],
   "source": [
    "# calling the function with an argument inside\n",
    "counts([\"B\",\"B\", \"C\"])"
   ]
  },
  {
   "cell_type": "code",
   "execution_count": 25,
   "metadata": {},
   "outputs": [],
   "source": []
  },
  {
   "cell_type": "code",
   "execution_count": null,
   "metadata": {},
   "outputs": [],
   "source": []
  },
  {
   "cell_type": "code",
   "execution_count": null,
   "metadata": {},
   "outputs": [],
   "source": []
  }
 ],
 "metadata": {
  "kernelspec": {
   "display_name": "Python 3",
   "language": "python",
   "name": "python3"
  },
  "language_info": {
   "codemirror_mode": {
    "name": "ipython",
    "version": 3
   },
   "file_extension": ".py",
   "mimetype": "text/x-python",
   "name": "python",
   "nbconvert_exporter": "python",
   "pygments_lexer": "ipython3",
   "version": "3.8.3"
  }
 },
 "nbformat": 4,
 "nbformat_minor": 4
}
