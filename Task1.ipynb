{
 "cells": [
  {
   "cell_type": "markdown",
   "metadata": {},
   "source": [
    "## Tasks"
   ]
  },
  {
   "cell_type": "markdown",
   "metadata": {},
   "source": [
    "#### Task 1 - Def counts function (colocar descrição)\n"
   ]
  },
  {
   "cell_type": "markdown",
   "metadata": {},
   "source": [
    "These are my solutions to the Tasks assessment. The autor is Claudia Morazzoni (G00387828@gmit.ie) "
   ]
  },
  {
   "cell_type": "markdown",
   "metadata": {},
   "source": [
    "Nós podemos criar uma função de nome counts que leva uma lista como entrada e retorna um dicionário.\n",
    "\n",
    "[1] https://docs.python.org/2.0/ref/function.html\n",
    "\n",
    "Um set é xxxxx onde possui itens únicos\n",
    "\n",
    "[2] colar referência\n",
    "\n",
    "o método count do Python conta quantas vezes aparece um item em uma lista.\n",
    "\n",
    "[3] colar referência\n",
    "\n",
    "\n",
    "não esquecer de colocar símbolos (mathjasc)\n"
   ]
  },
  {
   "cell_type": "code",
   "execution_count": 5,
   "metadata": {},
   "outputs": [],
   "source": [
    "l=['a', 'b', 'c', 'a', 'b', 'c', 'c', 'a']"
   ]
  },
  {
   "cell_type": "code",
   "execution_count": null,
   "metadata": {},
   "outputs": [],
   "source": [
    "def counts xxxx"
   ]
  }
 ],
 "metadata": {
  "kernelspec": {
   "display_name": "Python 3",
   "language": "python",
   "name": "python3"
  },
  "language_info": {
   "codemirror_mode": {
    "name": "ipython",
    "version": 3
   },
   "file_extension": ".py",
   "mimetype": "text/x-python",
   "name": "python",
   "nbconvert_exporter": "python",
   "pygments_lexer": "ipython3",
   "version": "3.8.3"
  }
 },
 "nbformat": 4,
 "nbformat_minor": 4
}
