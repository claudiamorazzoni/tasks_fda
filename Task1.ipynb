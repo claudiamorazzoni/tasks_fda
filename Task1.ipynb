{
 "cells": [
  {
   "cell_type": "markdown",
   "metadata": {},
   "source": [
    "# Tasks"
   ]
  },
  {
   "cell_type": "markdown",
   "metadata": {},
   "source": [
    "### Task 1 - Def counts function\n",
    "\n",
    "The idea is to create a function named counts that takes a list as input and returns a dictionary.\n"
   ]
  },
  {
   "cell_type": "markdown",
   "metadata": {},
   "source": [
    "These are my solutions to the Tasks assessment. The autor is Claudia Morazzoni (G00387828@gmit.ie) "
   ]
  },
  {
   "cell_type": "markdown",
   "metadata": {},
   "source": [
    "First, to relate each element $(x1 - y1)$ of two sets $(x, y)$ in a binary way it is necessary to construct a function, as formalized in the history of mathematics.\n",
    "\n",
    "### $$ y=f(x) $$\n",
    "\n",
    "\n",
    "In Python, a function is defined as a series of instructions that returns a value to the caller. [2]\n",
    "\n",
    "We know that Python's count inbuilt function counts how many times an item appears in a list. [3]\n",
    "\n",
    "However, as I needed to count by unique names, then I transformed the list into a set, as this is a collection of exclusive elements. [4]\n",
    "\n",
    "And finally I turned the result (key-value pairs) into a dictionary. The dict() constructor builds dictionaries directly from sequences of key-value pairs. [5]\n",
    "\n",
    "\n",
    "\n",
    "[1] https://en.wikipedia.org/wiki/Function_(mathematics)#:~:text=A%20function%20is%20a%20process,the%20codomain%20of%20the%20function.  \n",
    "[2] https://docs.python.org/3.0/glossary.html  \n",
    "[3] https://www.geeksforgeeks.org/python-list-function-count/  \n",
    "[4] https://docs.python.org/2/library/sets.html  \n",
    "[5] https://www.tutorialspoint.com/python-convert-a-set-into-dictionary#:~:text=The%20dict()%20can%20be,value%20pair%20in%20the%20dictionary.  \n",
    "\n"
   ]
  },
  {
   "cell_type": "code",
   "execution_count": 1,
   "metadata": {},
   "outputs": [
    {
     "name": "stdout",
     "output_type": "stream",
     "text": [
      "[{'c': 3, 'a': 3, 'b': 2}]\n"
     ]
    }
   ],
   "source": [
    "l=['a', 'b', 'c', 'a', 'b', 'c', 'c', 'a']\n",
    "\n",
    "def counts ():\n",
    "    return [(dict ((x,l.count(x)) for x in set(l)))]\n",
    "\n",
    "print(counts())"
   ]
  },
  {
   "cell_type": "code",
   "execution_count": null,
   "metadata": {},
   "outputs": [],
   "source": []
  },
  {
   "cell_type": "code",
   "execution_count": null,
   "metadata": {},
   "outputs": [],
   "source": []
  },
  {
   "cell_type": "code",
   "execution_count": null,
   "metadata": {},
   "outputs": [],
   "source": []
  }
 ],
 "metadata": {
  "kernelspec": {
   "display_name": "Python 3",
   "language": "python",
   "name": "python3"
  },
  "language_info": {
   "codemirror_mode": {
    "name": "ipython",
    "version": 3
   },
   "file_extension": ".py",
   "mimetype": "text/x-python",
   "name": "python",
   "nbconvert_exporter": "python",
   "pygments_lexer": "ipython3",
   "version": "3.8.3"
  }
 },
 "nbformat": 4,
 "nbformat_minor": 4
}
