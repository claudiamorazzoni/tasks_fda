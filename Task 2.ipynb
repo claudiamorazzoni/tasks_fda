{
 "cells": [
  {
   "cell_type": "markdown",
   "metadata": {},
   "source": [
    "This is my solution to the Task 2. The autor is Claudia Morazzoni (G00387828@gmit.ie)"
   ]
  },
  {
   "cell_type": "markdown",
   "metadata": {},
   "source": [
    "# Tasks Assessment for Fundamentals of Data Analysis"
   ]
  },
  {
   "cell_type": "markdown",
   "metadata": {},
   "source": [
    "### Task 2 - Def dicerolls t function\n",
    "\n",
    "The idea is to create a function named dicerolls that is should simulate randomly rolling dice n times, keeping track of each total face value. It should then return a dictionary with the number of times each possible total face value occurred."
   ]
  },
  {
   "cell_type": "code",
   "execution_count": 152,
   "metadata": {},
   "outputs": [],
   "source": [
    "import random as rd\n",
    "\n",
    "def dicerolls (k=1, n=10):\n",
    "    \"\"\" \n",
    "    A function named dicerolls that simulate randomly rolling dice n times and returns a dictionary with the number of times each possible total face value occurred\n",
    "    \"\"\"\n",
    "    cont = 0  # We need an interactor for the loop count\n",
    "    d0 = [] # We need an empty list to store the drawn data\n",
    "    if k==1:\n",
    "        while True:\n",
    "            dn = [d0.append(rd.randint(1,6))]\n",
    "            if cont < n:\n",
    "                cont += 1\n",
    "                if cont >= n:\n",
    "                    return (dict((x,d0.count(x)) for x in d0))\n",
    "    elif k>=2:\n",
    "        t=k*1\n",
    "        s=k*6\n",
    "        while True:\n",
    "            d0.append(rd.randint(t,s))\n",
    "            if cont < n:\n",
    "                cont += 1\n",
    "                if cont >= n:\n",
    "                    return (dict((x,d0.count(x)) for x in d0)) \n",
    "    else:\n",
    "        return print(\"You can only play with integers numbers\")"
   ]
  },
  {
   "cell_type": "code",
   "execution_count": 164,
   "metadata": {},
   "outputs": [
    {
     "data": {
      "text/plain": [
       "{2: 11, 6: 17, 5: 25, 3: 24, 4: 15, 1: 8}"
      ]
     },
     "execution_count": 164,
     "metadata": {},
     "output_type": "execute_result"
    }
   ],
   "source": [
    "dicerolls(1,100)"
   ]
  },
  {
   "cell_type": "code",
   "execution_count": null,
   "metadata": {},
   "outputs": [],
   "source": []
  }
 ],
 "metadata": {
  "kernelspec": {
   "display_name": "Python 3",
   "language": "python",
   "name": "python3"
  },
  "language_info": {
   "codemirror_mode": {
    "name": "ipython",
    "version": 3
   },
   "file_extension": ".py",
   "mimetype": "text/x-python",
   "name": "python",
   "nbconvert_exporter": "python",
   "pygments_lexer": "ipython3",
   "version": "3.8.3"
  }
 },
 "nbformat": 4,
 "nbformat_minor": 4
}
